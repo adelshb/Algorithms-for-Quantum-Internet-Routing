{
 "metadata": {
  "language_info": {
   "codemirror_mode": {
    "name": "ipython",
    "version": 3
   },
   "file_extension": ".py",
   "mimetype": "text/x-python",
   "name": "python",
   "nbconvert_exporter": "python",
   "pygments_lexer": "ipython3",
   "version": "3.9.2"
  },
  "orig_nbformat": 2,
  "kernelspec": {
   "name": "pythonjvsc74a57bd0938087cd91dc8c3dc0e95be6602768323b0e9a94cbbbc46c2ef36e1d4c0872df",
   "display_name": "Python 3.9.2 64-bit ('env': venv)"
  },
  "metadata": {
   "interpreter": {
    "hash": "938087cd91dc8c3dc0e95be6602768323b0e9a94cbbbc46c2ef36e1d4c0872df"
   }
  }
 },
 "nbformat": 4,
 "nbformat_minor": 2,
 "cells": [
  {
   "cell_type": "code",
   "execution_count": 1,
   "metadata": {},
   "outputs": [],
   "source": [
    "import os, json\n",
    "# import pandas as pd\n",
    "from src.benchmark.utils import parser\n",
    "path = \"data/benchmark\""
   ]
  },
  {
   "cell_type": "code",
   "execution_count": 2,
   "metadata": {},
   "outputs": [],
   "source": [
    "json_files = [pos_json for pos_json in os.listdir(path) if pos_json.endswith('.json')]\n",
    "num_exp = len(json_files)"
   ]
  },
  {
   "cell_type": "code",
   "execution_count": 3,
   "metadata": {},
   "outputs": [],
   "source": [
    "data = []\n",
    "for index, js in enumerate(json_files):\n",
    "    with open(os.path.join(path, js)) as json_file:\n",
    "        data.append(json.load(json_file))"
   ]
  },
  {
   "cell_type": "code",
   "execution_count": 4,
   "metadata": {},
   "outputs": [],
   "source": [
    "random, sarsa = parser(data)"
   ]
  },
  {
   "cell_type": "code",
   "execution_count": 18,
   "metadata": {},
   "outputs": [
    {
     "output_type": "execute_result",
     "data": {
      "text/plain": [
       "     nodes  epsilon  alpha  gamma                    reward\n",
       "0        3      0.0    0.0    0.0       [-10, 0, 10, 0, 10]\n",
       "1        3      0.0    0.0    0.5         [1, -9, 1, 2, -8]\n",
       "2        3      0.0    0.0    1.0        [1, 11, 1, 11, 12]\n",
       "27       4      0.0    0.0    0.0        [1, 2, -8, -7, -6]\n",
       "28       4      0.0    0.0    0.5       [1, 11, 12, 13, 23]\n",
       "29       4      0.0    0.0    1.0     [-10, -9, -8, -7, -6]\n",
       "54       3      0.0    0.0    0.0        [1, -9, -8, 2, -8]\n",
       "55       3      0.0    0.0    0.5         [1, 2, 12, 2, 12]\n",
       "56       3      0.0    0.0    1.0      [-10, -9, -8, 2, -8]\n",
       "81       3      0.0    0.0    0.0     [-10, 0, -10, 0, -10]\n",
       "82       3      0.0    0.0    0.5        [10, 0, 10, 0, 10]\n",
       "83       3      0.0    0.0    1.0     [-10, 0, -10, 0, -10]\n",
       "108      4      0.0    0.0    0.0  [-10, -9, -19, -18, -28]\n",
       "109      4      0.0    0.0    0.5     [1, -9, -8, -18, -17]\n",
       "110      4      0.0    0.0    1.0  [-10, -9, -19, -18, -28]\n",
       "135      3      0.0    0.0    0.0     [-10, 0, -10, 0, -10]\n",
       "136      3      0.0    0.0    0.5        [10, 0, 10, 0, 10]\n",
       "137      3      0.0    0.0    1.0     [-10, 0, -10, 0, -10]\n",
       "162      4      0.0    0.0    0.0      [-10, -9, -8, -7, 3]\n",
       "163      4      0.0    0.0    0.5         [1, -9, 1, 2, -8]\n",
       "164      4      0.0    0.0    1.0       [1, 11, 12, 13, 23]\n",
       "189      4      0.0    0.0    0.0         [10, 0, 1, 11, 1]\n",
       "190      4      0.0    0.0    0.5      [10, 20, 10, 20, 30]\n",
       "191      4      0.0    0.0    1.0       [-10, -9, 1, 2, -8]\n",
       "216      4      0.0    0.0    0.0  [-10, -9, -19, -18, -28]\n",
       "217      4      0.0    0.0    0.5     [1, -9, -8, -18, -17]\n",
       "218      4      0.0    0.0    1.0  [-10, -9, -19, -18, -28]\n",
       "243      3      0.0    0.0    0.0        [-10, -9, 1, 2, 3]\n",
       "244      3      0.0    0.0    0.5          [10, 0, 1, 2, 3]\n",
       "245      3      0.0    0.0    1.0          [10, 0, 1, 2, 3]"
      ],
      "text/html": "<div>\n<style scoped>\n    .dataframe tbody tr th:only-of-type {\n        vertical-align: middle;\n    }\n\n    .dataframe tbody tr th {\n        vertical-align: top;\n    }\n\n    .dataframe thead th {\n        text-align: right;\n    }\n</style>\n<table border=\"1\" class=\"dataframe\">\n  <thead>\n    <tr style=\"text-align: right;\">\n      <th></th>\n      <th>nodes</th>\n      <th>epsilon</th>\n      <th>alpha</th>\n      <th>gamma</th>\n      <th>reward</th>\n    </tr>\n  </thead>\n  <tbody>\n    <tr>\n      <th>0</th>\n      <td>3</td>\n      <td>0.0</td>\n      <td>0.0</td>\n      <td>0.0</td>\n      <td>[-10, 0, 10, 0, 10]</td>\n    </tr>\n    <tr>\n      <th>1</th>\n      <td>3</td>\n      <td>0.0</td>\n      <td>0.0</td>\n      <td>0.5</td>\n      <td>[1, -9, 1, 2, -8]</td>\n    </tr>\n    <tr>\n      <th>2</th>\n      <td>3</td>\n      <td>0.0</td>\n      <td>0.0</td>\n      <td>1.0</td>\n      <td>[1, 11, 1, 11, 12]</td>\n    </tr>\n    <tr>\n      <th>27</th>\n      <td>4</td>\n      <td>0.0</td>\n      <td>0.0</td>\n      <td>0.0</td>\n      <td>[1, 2, -8, -7, -6]</td>\n    </tr>\n    <tr>\n      <th>28</th>\n      <td>4</td>\n      <td>0.0</td>\n      <td>0.0</td>\n      <td>0.5</td>\n      <td>[1, 11, 12, 13, 23]</td>\n    </tr>\n    <tr>\n      <th>29</th>\n      <td>4</td>\n      <td>0.0</td>\n      <td>0.0</td>\n      <td>1.0</td>\n      <td>[-10, -9, -8, -7, -6]</td>\n    </tr>\n    <tr>\n      <th>54</th>\n      <td>3</td>\n      <td>0.0</td>\n      <td>0.0</td>\n      <td>0.0</td>\n      <td>[1, -9, -8, 2, -8]</td>\n    </tr>\n    <tr>\n      <th>55</th>\n      <td>3</td>\n      <td>0.0</td>\n      <td>0.0</td>\n      <td>0.5</td>\n      <td>[1, 2, 12, 2, 12]</td>\n    </tr>\n    <tr>\n      <th>56</th>\n      <td>3</td>\n      <td>0.0</td>\n      <td>0.0</td>\n      <td>1.0</td>\n      <td>[-10, -9, -8, 2, -8]</td>\n    </tr>\n    <tr>\n      <th>81</th>\n      <td>3</td>\n      <td>0.0</td>\n      <td>0.0</td>\n      <td>0.0</td>\n      <td>[-10, 0, -10, 0, -10]</td>\n    </tr>\n    <tr>\n      <th>82</th>\n      <td>3</td>\n      <td>0.0</td>\n      <td>0.0</td>\n      <td>0.5</td>\n      <td>[10, 0, 10, 0, 10]</td>\n    </tr>\n    <tr>\n      <th>83</th>\n      <td>3</td>\n      <td>0.0</td>\n      <td>0.0</td>\n      <td>1.0</td>\n      <td>[-10, 0, -10, 0, -10]</td>\n    </tr>\n    <tr>\n      <th>108</th>\n      <td>4</td>\n      <td>0.0</td>\n      <td>0.0</td>\n      <td>0.0</td>\n      <td>[-10, -9, -19, -18, -28]</td>\n    </tr>\n    <tr>\n      <th>109</th>\n      <td>4</td>\n      <td>0.0</td>\n      <td>0.0</td>\n      <td>0.5</td>\n      <td>[1, -9, -8, -18, -17]</td>\n    </tr>\n    <tr>\n      <th>110</th>\n      <td>4</td>\n      <td>0.0</td>\n      <td>0.0</td>\n      <td>1.0</td>\n      <td>[-10, -9, -19, -18, -28]</td>\n    </tr>\n    <tr>\n      <th>135</th>\n      <td>3</td>\n      <td>0.0</td>\n      <td>0.0</td>\n      <td>0.0</td>\n      <td>[-10, 0, -10, 0, -10]</td>\n    </tr>\n    <tr>\n      <th>136</th>\n      <td>3</td>\n      <td>0.0</td>\n      <td>0.0</td>\n      <td>0.5</td>\n      <td>[10, 0, 10, 0, 10]</td>\n    </tr>\n    <tr>\n      <th>137</th>\n      <td>3</td>\n      <td>0.0</td>\n      <td>0.0</td>\n      <td>1.0</td>\n      <td>[-10, 0, -10, 0, -10]</td>\n    </tr>\n    <tr>\n      <th>162</th>\n      <td>4</td>\n      <td>0.0</td>\n      <td>0.0</td>\n      <td>0.0</td>\n      <td>[-10, -9, -8, -7, 3]</td>\n    </tr>\n    <tr>\n      <th>163</th>\n      <td>4</td>\n      <td>0.0</td>\n      <td>0.0</td>\n      <td>0.5</td>\n      <td>[1, -9, 1, 2, -8]</td>\n    </tr>\n    <tr>\n      <th>164</th>\n      <td>4</td>\n      <td>0.0</td>\n      <td>0.0</td>\n      <td>1.0</td>\n      <td>[1, 11, 12, 13, 23]</td>\n    </tr>\n    <tr>\n      <th>189</th>\n      <td>4</td>\n      <td>0.0</td>\n      <td>0.0</td>\n      <td>0.0</td>\n      <td>[10, 0, 1, 11, 1]</td>\n    </tr>\n    <tr>\n      <th>190</th>\n      <td>4</td>\n      <td>0.0</td>\n      <td>0.0</td>\n      <td>0.5</td>\n      <td>[10, 20, 10, 20, 30]</td>\n    </tr>\n    <tr>\n      <th>191</th>\n      <td>4</td>\n      <td>0.0</td>\n      <td>0.0</td>\n      <td>1.0</td>\n      <td>[-10, -9, 1, 2, -8]</td>\n    </tr>\n    <tr>\n      <th>216</th>\n      <td>4</td>\n      <td>0.0</td>\n      <td>0.0</td>\n      <td>0.0</td>\n      <td>[-10, -9, -19, -18, -28]</td>\n    </tr>\n    <tr>\n      <th>217</th>\n      <td>4</td>\n      <td>0.0</td>\n      <td>0.0</td>\n      <td>0.5</td>\n      <td>[1, -9, -8, -18, -17]</td>\n    </tr>\n    <tr>\n      <th>218</th>\n      <td>4</td>\n      <td>0.0</td>\n      <td>0.0</td>\n      <td>1.0</td>\n      <td>[-10, -9, -19, -18, -28]</td>\n    </tr>\n    <tr>\n      <th>243</th>\n      <td>3</td>\n      <td>0.0</td>\n      <td>0.0</td>\n      <td>0.0</td>\n      <td>[-10, -9, 1, 2, 3]</td>\n    </tr>\n    <tr>\n      <th>244</th>\n      <td>3</td>\n      <td>0.0</td>\n      <td>0.0</td>\n      <td>0.5</td>\n      <td>[10, 0, 1, 2, 3]</td>\n    </tr>\n    <tr>\n      <th>245</th>\n      <td>3</td>\n      <td>0.0</td>\n      <td>0.0</td>\n      <td>1.0</td>\n      <td>[10, 0, 1, 2, 3]</td>\n    </tr>\n  </tbody>\n</table>\n</div>"
     },
     "metadata": {},
     "execution_count": 18
    }
   ],
   "source": [
    "sarsa.loc[sarsa['epsilon']==0].loc[sarsa['alpha']==0]"
   ]
  },
  {
   "cell_type": "code",
   "execution_count": null,
   "metadata": {},
   "outputs": [],
   "source": []
  }
 ]
}