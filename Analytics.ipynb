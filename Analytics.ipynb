{
 "metadata": {
  "language_info": {
   "codemirror_mode": {
    "name": "ipython",
    "version": 3
   },
   "file_extension": ".py",
   "mimetype": "text/x-python",
   "name": "python",
   "nbconvert_exporter": "python",
   "pygments_lexer": "ipython3",
   "version": "3.9.2"
  },
  "orig_nbformat": 2,
  "kernelspec": {
   "name": "pythonjvsc74a57bd0938087cd91dc8c3dc0e95be6602768323b0e9a94cbbbc46c2ef36e1d4c0872df",
   "display_name": "Python 3.9.2  ('env': venv)"
  },
  "metadata": {
   "interpreter": {
    "hash": "938087cd91dc8c3dc0e95be6602768323b0e9a94cbbbc46c2ef36e1d4c0872df"
   }
  }
 },
 "nbformat": 4,
 "nbformat_minor": 2,
 "cells": [
  {
   "cell_type": "code",
   "execution_count": 1,
   "metadata": {},
   "outputs": [],
   "source": [
    "import os, json\n",
    "import pandas as pd\n",
    "path = \"data/benchmark\""
   ]
  },
  {
   "cell_type": "code",
   "execution_count": 6,
   "metadata": {},
   "outputs": [
    {
     "output_type": "stream",
     "name": "stdout",
     "text": [
      "['6.json', '7.json', '0.json', '1.json', '2.json', '3.json', '8.json', '4.json', '5.json', '9.json']\n"
     ]
    }
   ],
   "source": [
    "json_files = [pos_json for pos_json in os.listdir(path) if pos_json.endswith('.json')]\n",
    "num_exp = len(json_files)"
   ]
  },
  {
   "cell_type": "code",
   "execution_count": 7,
   "metadata": {},
   "outputs": [],
   "source": [
    "# Computing averages\n",
    "for index, js in enumerate(json_files):\n",
    "    with open(os.path.join(path, js)) as json_file:\n",
    "        json_text = json.load(json_file)"
   ]
  },
  {
   "cell_type": "code",
   "execution_count": 8,
   "metadata": {},
   "outputs": [
    {
     "output_type": "execute_result",
     "data": {
      "text/plain": [
       "{'physical network': {'nodes': [0, 1, 2, 3, 4],\n",
       "  'edges': [[0, 1],\n",
       "   [0, 2],\n",
       "   [0, 3],\n",
       "   [0, 4],\n",
       "   [1, 2],\n",
       "   [1, 3],\n",
       "   [1, 4],\n",
       "   [2, 3],\n",
       "   [2, 4],\n",
       "   [3, 4]]},\n",
       " 'virtual network': {'nodes': [0, 1, 2, 3, 4],\n",
       "  'edges': [[0, 2], [0, 3], [0, 4], [1, 2], [1, 3], [1, 4], [2, 3], [2, 4]]},\n",
       " 'random-agent': [10, 20, 30, 40, 50],\n",
       " 'sarsa': [{'epsilon': 0.0,\n",
       "   'alpha': 0.0,\n",
       "   'gamma': 0.0,\n",
       "   'reward': [1, -9, 1, 2, 12]},\n",
       "  {'epsilon': 0.0, 'alpha': 0.0, 'gamma': 0.5, 'reward': [1, 2, 3, 13, 3]},\n",
       "  {'epsilon': 0.0, 'alpha': 0.0, 'gamma': 1.0, 'reward': [10, 20, 21, 31, 32]},\n",
       "  {'epsilon': 0.0, 'alpha': 0.5, 'gamma': 0.0, 'reward': [1, 2, 3, -7, 3]},\n",
       "  {'epsilon': 0.0, 'alpha': 0.5, 'gamma': 0.5, 'reward': [1, 2, 3, 4, -6]},\n",
       "  {'epsilon': 0.0, 'alpha': 0.5, 'gamma': 1.0, 'reward': [1, 2, 3, 4, 5]},\n",
       "  {'epsilon': 0.0, 'alpha': 1.0, 'gamma': 0.0, 'reward': [10, 11, 12, 2, 3]},\n",
       "  {'epsilon': 0.0, 'alpha': 1.0, 'gamma': 0.5, 'reward': [1, 11, 12, 13, 23]},\n",
       "  {'epsilon': 0.0, 'alpha': 1.0, 'gamma': 1.0, 'reward': [10, 0, 1, 2, 12]},\n",
       "  {'epsilon': 0.5, 'alpha': 0.0, 'gamma': 0.0, 'reward': [1, 2, 3, 4, -6]},\n",
       "  {'epsilon': 0.5, 'alpha': 0.0, 'gamma': 0.5, 'reward': [10, 11, 21, 22, 23]},\n",
       "  {'epsilon': 0.5, 'alpha': 0.0, 'gamma': 1.0, 'reward': [1, 2, -8, 2, 12]},\n",
       "  {'epsilon': 0.5, 'alpha': 0.5, 'gamma': 0.0, 'reward': [10, 11, 1, 2, 3]},\n",
       "  {'epsilon': 0.5, 'alpha': 0.5, 'gamma': 0.5, 'reward': [1, 11, 12, 13, 14]},\n",
       "  {'epsilon': 0.5,\n",
       "   'alpha': 0.5,\n",
       "   'gamma': 1.0,\n",
       "   'reward': [-10, -9, -8, -7, -6]},\n",
       "  {'epsilon': 0.5, 'alpha': 1.0, 'gamma': 0.0, 'reward': [1, -9, -8, -7, -6]},\n",
       "  {'epsilon': 0.5, 'alpha': 1.0, 'gamma': 0.5, 'reward': [1, 2, 12, 2, 3]},\n",
       "  {'epsilon': 0.5, 'alpha': 1.0, 'gamma': 1.0, 'reward': [1, 2, 12, 2, 3]},\n",
       "  {'epsilon': 1.0, 'alpha': 0.0, 'gamma': 0.0, 'reward': [10, 11, 12, 13, 3]},\n",
       "  {'epsilon': 1.0, 'alpha': 0.0, 'gamma': 0.5, 'reward': [1, 11, 21, 22, 23]},\n",
       "  {'epsilon': 1.0, 'alpha': 0.0, 'gamma': 1.0, 'reward': [1, 11, 1, 11, 12]},\n",
       "  {'epsilon': 1.0, 'alpha': 0.5, 'gamma': 0.0, 'reward': [10, 20, 21, 31, 21]},\n",
       "  {'epsilon': 1.0, 'alpha': 0.5, 'gamma': 0.5, 'reward': [1, 11, 21, 22, 23]},\n",
       "  {'epsilon': 1.0, 'alpha': 0.5, 'gamma': 1.0, 'reward': [10, 0, 10, 11, 21]},\n",
       "  {'epsilon': 1.0, 'alpha': 1.0, 'gamma': 0.0, 'reward': [10, 20, 21, 31, 32]},\n",
       "  {'epsilon': 1.0, 'alpha': 1.0, 'gamma': 0.5, 'reward': [-10, 0, 1, 2, 3]},\n",
       "  {'epsilon': 1.0, 'alpha': 1.0, 'gamma': 1.0, 'reward': [1, 11, 12, 2, 3]}]}"
      ]
     },
     "metadata": {},
     "execution_count": 8
    }
   ],
   "source": [
    "json_text"
   ]
  },
  {
   "cell_type": "code",
   "execution_count": null,
   "metadata": {},
   "outputs": [],
   "source": []
  }
 ]
}