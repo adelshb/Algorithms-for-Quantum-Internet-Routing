{
 "metadata": {
  "language_info": {
   "codemirror_mode": {
    "name": "ipython",
    "version": 3
   },
   "file_extension": ".py",
   "mimetype": "text/x-python",
   "name": "python",
   "nbconvert_exporter": "python",
   "pygments_lexer": "ipython3",
   "version": "3.9.2"
  },
  "orig_nbformat": 2,
  "kernelspec": {
   "name": "pythonjvsc74a57bd0938087cd91dc8c3dc0e95be6602768323b0e9a94cbbbc46c2ef36e1d4c0872df",
   "display_name": "Python 3.9.5 64-bit ('env': venv)"
  },
  "metadata": {
   "interpreter": {
    "hash": "938087cd91dc8c3dc0e95be6602768323b0e9a94cbbbc46c2ef36e1d4c0872df"
   }
  }
 },
 "nbformat": 4,
 "nbformat_minor": 2,
 "cells": [
  {
   "cell_type": "code",
   "execution_count": 1,
   "metadata": {},
   "outputs": [],
   "source": [
    "import os, json\n",
    "# import pandas as pd\n",
    "from src.benchmark.utils import parser\n",
    "path = \"data/benchmark\""
   ]
  },
  {
   "cell_type": "code",
   "execution_count": 2,
   "metadata": {},
   "outputs": [],
   "source": [
    "json_files = [pos_json for pos_json in os.listdir(path) if pos_json.endswith('.json')]\n",
    "num_exp = len(json_files)"
   ]
  },
  {
   "cell_type": "code",
   "execution_count": 3,
   "metadata": {},
   "outputs": [],
   "source": [
    "data = []\n",
    "for index, js in enumerate(json_files):\n",
    "    with open(os.path.join(path, js)) as json_file:\n",
    "        data.append(json.load(json_file))"
   ]
  },
  {
   "cell_type": "code",
   "execution_count": 4,
   "metadata": {},
   "outputs": [],
   "source": [
    "random, sarsa = parser(data)"
   ]
  },
  {
   "cell_type": "code",
   "execution_count": 10,
   "metadata": {},
   "outputs": [
    {
     "output_type": "execute_result",
     "data": {
      "text/plain": [
       "0           [-10, 0, 10, 0, 10]\n",
       "27           [1, 2, -8, -7, -6]\n",
       "54           [1, -9, -8, 2, -8]\n",
       "81        [-10, 0, -10, 0, -10]\n",
       "108    [-10, -9, -19, -18, -28]\n",
       "135       [-10, 0, -10, 0, -10]\n",
       "162        [-10, -9, -8, -7, 3]\n",
       "189           [10, 0, 1, 11, 1]\n",
       "216    [-10, -9, -19, -18, -28]\n",
       "243          [-10, -9, 1, 2, 3]\n",
       "Name: reward, dtype: object"
      ]
     },
     "metadata": {},
     "execution_count": 10
    }
   ],
   "source": [
    "e = 0\n",
    "a = 0\n",
    "y = 0\n",
    "\n",
    "sarsa.loc[sarsa['epsilon']==e].loc[sarsa['alpha']==a].loc[sarsa['gamma']==y]['reward']"
   ]
  },
  {
   "cell_type": "code",
   "execution_count": null,
   "metadata": {},
   "outputs": [],
   "source": []
  }
 ]
}