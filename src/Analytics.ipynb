{
 "metadata": {
  "language_info": {
   "codemirror_mode": {
    "name": "ipython",
    "version": 3
   },
   "file_extension": ".py",
   "mimetype": "text/x-python",
   "name": "python",
   "nbconvert_exporter": "python",
   "pygments_lexer": "ipython3",
   "version": "3.9.5"
  },
  "orig_nbformat": 2,
  "kernelspec": {
   "name": "pythonjvsc74a57bd0938087cd91dc8c3dc0e95be6602768323b0e9a94cbbbc46c2ef36e1d4c0872df",
   "display_name": "Python 3.9.5 64-bit ('env': venv)"
  },
  "metadata": {
   "interpreter": {
    "hash": "938087cd91dc8c3dc0e95be6602768323b0e9a94cbbbc46c2ef36e1d4c0872df"
   }
  }
 },
 "nbformat": 4,
 "nbformat_minor": 2,
 "cells": [
  {
   "cell_type": "code",
   "execution_count": null,
   "metadata": {},
   "outputs": [],
   "source": [
    "import os, json\n",
    "import numpy as np\n",
    "\n",
    "from benchmark import parser\n",
    "path = \"../data/benchmark\"\n",
    "\n",
    "import sys\n",
    "!{sys.executable} -m pip install matplotlib\n",
    "import matplotlib.pyplot as plt"
   ]
  },
  {
   "cell_type": "code",
   "execution_count": null,
   "metadata": {},
   "outputs": [],
   "source": [
    "json_files = [pos_json for pos_json in os.listdir(path) if pos_json.endswith('.json')]\n",
    "num_exp = len(json_files)"
   ]
  },
  {
   "cell_type": "code",
   "execution_count": null,
   "metadata": {},
   "outputs": [],
   "source": [
    "data = []\n",
    "for index, js in enumerate(json_files):\n",
    "    with open(os.path.join(path, js)) as json_file:\n",
    "        data.append(json.load(json_file))"
   ]
  },
  {
   "cell_type": "code",
   "execution_count": null,
   "metadata": {},
   "outputs": [],
   "source": [
    "random, greedy, sarsa = parser(data)\n",
    "num_exp = len(random)\n",
    "delta = sarsa['gamma'][1] - sarsa['gamma'][0]\n",
    "epochs = len(random[\"reward\"][0])"
   ]
  },
  {
   "cell_type": "code",
   "execution_count": null,
   "metadata": {},
   "outputs": [],
   "source": [
    "S = [s for s in random[\"reward\"]]\n",
    "Ravg_random = np.mean(S, axis=0, dtype=object)"
   ]
  },
  {
   "cell_type": "code",
   "execution_count": null,
   "metadata": {},
   "outputs": [],
   "source": [
    "S = [s for s in greedy[\"reward\"]]\n",
    "Ravg_greedy = np.mean(S, axis=0, dtype=object)"
   ]
  },
  {
   "cell_type": "code",
   "execution_count": null,
   "metadata": {},
   "outputs": [],
   "source": [
    "Ravg_sarsa = []\n",
    "\n",
    "for e in np.arange(0, 1+delta, delta):\n",
    "    for a in np.arange(0, 1+delta, delta):\n",
    "        for y in np.arange(0, 1+delta, delta):\n",
    "\n",
    "            S = sarsa.loc[sarsa['epsilon']==e].loc[sarsa['alpha']==a].loc[sarsa['gamma']==y]['reward']\n",
    "            S = [s for s in S]\n",
    "            Ravg_sarsa.append([[e, a, y], np.mean(S, axis=0, dtype=object)])"
   ]
  },
  {
   "cell_type": "code",
   "execution_count": null,
   "metadata": {},
   "outputs": [],
   "source": [
    "plt.figure(figsize=(10,6))\n",
    "\n",
    "# plot data\n",
    "plt.scatter(range(1,epochs+1), Ravg_random, linewidth=3)\n",
    "plt.plot(range(1,epochs+1), Ravg_random, linewidth=3, alpha=0.3, label='Random')\n",
    "\n",
    "plt.scatter(range(1,epochs+1), Ravg_greedy, linewidth=3)\n",
    "plt.plot(range(1,epochs+1), Ravg_greedy, linewidth=3, alpha=0.3, label='Greedy')\n",
    "\n",
    "for r in Ravg_sarsa:\n",
    "    plt.scatter(range(1,epochs+1), r[1], linewidth=3)\n",
    "    plt.plot(range(1,epochs+1), r[1], linewidth=3, alpha=0.3)\n",
    "\n",
    "# plot beauty\n",
    "plt.ylabel('Reward', fontsize=25)\n",
    "plt.xlabel('Epochs', fontsize=25)\n",
    "plt.grid(True)\n",
    "plt.tick_params(axis='both', which='major', labelsize=17)\n",
    "plt.legend(fontsize = '14',loc=\"lower right\")\n",
    "# plt.savefig('benchmark.pdf', dpi=None, facecolor='w', edgecolor='w',\n",
    "#         orientation='portrait', papertype=None, format=None,\n",
    "#         transparent=False, bbox_inches=None, pad_inches=0.1,\n",
    "#         frameon=None)\n",
    "plt.show()"
   ]
  },
  {
   "cell_type": "code",
   "execution_count": null,
   "metadata": {},
   "outputs": [],
   "source": []
  }
 ]
}