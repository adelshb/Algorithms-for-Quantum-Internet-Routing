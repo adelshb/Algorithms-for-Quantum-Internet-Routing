{
    "cells": [
        {
            "cell_type": "code",
            "execution_count": 60,
            "source": [
                "import networkx as nx \n",
                "from networks.cycle import cycle_net\n",
                "import numpy as np\n",
                "import random\n",
                "\n",
                "from environements.random import RandomEnvironement\n",
                "\n",
                "from agents.greed_routing_agent import GreedyNeighborsAgent\n",
                "from agents.shortest_path import ShortestPathAgent\n",
                "\n",
                "import matplotlib.pyplot as plt"
            ],
            "outputs": [],
            "metadata": {}
        },
        {
            "cell_type": "code",
            "execution_count": 61,
            "source": [
                "def run_experiment(env, agent, epochs):\n",
                "\n",
                "    state = env._state\n",
                "    sender = env._sender\n",
                "    reciever = env._reciever\n",
                "    success = False\n",
                "    LOG = []\n",
                "\n",
                "    LOG.append(\n",
                "            {\n",
                "                \"sender\":sender,\n",
                "                \"reciever\":reciever,\n",
                "                \"action\":None,\n",
                "                \"rewards\":0\n",
                "            }\n",
                "        ) \n",
                "\n",
                "    r = 0\n",
                "    for __ in range(epochs):\n",
                "        # Compute action through Agent's policy\n",
                "        if __ == 0:\n",
                "            action = agent.run(state= state, sender= sender, reciever= reciever)\n",
                "        else:\n",
                "            action = agent.run(state= state, sender= sender, reciever= reciever, reward= result.reward, success=success)\n",
                "\n",
                "        # State evolution and compute reward\n",
                "        result = env.run(action= action)\n",
                "        \n",
                "        # Update parameters\n",
                "        state = result.state\n",
                "        sender = result.sender\n",
                "        reciever = result.reciever\n",
                "        success = result.success\n",
                "        \n",
                "        r += result.reward\n",
                "\n",
                "        LOG.append(\n",
                "            {\n",
                "                \"sender\":sender,\n",
                "                \"reciever\":reciever,\n",
                "                \"action\":action,\n",
                "                \"rewards\":r\n",
                "            }\n",
                "        )\n",
                "    return LOG\n",
                "    \n",
                "def gsr_events(C,N):\n",
                "\n",
                "    paths = []\n",
                "    nodes = list(C.nodes)\n",
                "    for n in nodes:\n",
                "        nodes.remove(n)\n",
                "        for t in nodes:\n",
                "            try:\n",
                "                paths.append(list(nx.all_simple_paths(C, source=n, target=t)))\n",
                "            except:\n",
                "                pass\n",
                "    paths = [j for i in paths for j in i]\n",
                "\n",
                "    v = np.random.rand(len(paths))\n",
                "    prob_dist = v / np.linalg.norm(v)\n",
                "\n",
                "    sr_events = []\n",
                "    for __ in range(N):\n",
                "        path = random.choices(paths, prob_dist)[0]\n",
                "        sr_events.append((path[0], path[-1]))\n",
                "\n",
                "    return sr_events"
            ],
            "outputs": [],
            "metadata": {}
        },
        {
            "cell_type": "code",
            "execution_count": 62,
            "source": [
                "def benchmark(C,Q,sr_events):\n",
                "\n",
                "    ben = {}\n",
                "\n",
                "    #### Greedy\n",
                "    env = RandomEnvironement(physical_network = C, \n",
                "                                    virtual_network = Q,\n",
                "                                    sender_reciever_events= sr_events)\n",
                "\n",
                "    agent = GreedyNeighborsAgent(physical_network= C, virtual_network = Q)\n",
                "\n",
                "    LOG = run_experiment(env, agent, epochs=epochs)\n",
                "    ben[\"greedy\"] = LOG    \n",
                "\n",
                "    #### Shortest Path\n",
                "    env = RandomEnvironement(physical_network = C, \n",
                "                                    virtual_network = Q,\n",
                "                                    sender_reciever_events= sr_events)\n",
                "\n",
                "    agent = ShortestPathAgent(physical_network= C,\n",
                "                    virtual_network = Q)\n",
                "\n",
                "    LOG = run_experiment(env, agent, epochs=epochs)\n",
                "    ben[\"shortest path\"] = LOG\n",
                "\n",
                "    if ben[\"greedy\"][-1][\"rewards\"] > ben[\"shortest path\"][-1][\"rewards\"]:\n",
                "        ben[\"winner\"]=\"greedy\"\n",
                "    elif ben[\"greedy\"][-1][\"rewards\"] < ben[\"shortest path\"][-1][\"rewards\"]:\n",
                "        ben[\"winner\"]=\"shortest path\"\n",
                "    elif ben[\"greedy\"][-1][\"rewards\"] == ben[\"shortest path\"][-1][\"rewards\"]:\n",
                "        ben[\"winner\"]=\"draw\"\n",
                "\n",
                "    return ben\n"
            ],
            "outputs": [],
            "metadata": {}
        },
        {
            "cell_type": "code",
            "execution_count": 86,
            "source": [
                "n=16\n",
                "dth=4\n",
                "epochs=100\n",
                "N_events=100\n",
                "N_ben = 1000\n",
                "\n",
                "C, Q = cycle_net(n=n, dth=dth)\n",
                "data = []\n",
                "win = []\n",
                "\n",
                "for __ in range(N_ben):\n",
                "\n",
                "    sr_events = gsr_events(C,N_events)\n",
                "    ben = benchmark(C,Q,sr_events)\n",
                "    data.append(ben)\n",
                "    win.append(ben[\"winner\"])\n"
            ],
            "outputs": [],
            "metadata": {}
        },
        {
            "cell_type": "code",
            "execution_count": 87,
            "source": [
                "plt.hist(win, density=False, facecolor='b', alpha=0.75)\n",
                "\n",
                "plt.xlabel('Winner')\n",
                "plt.ylabel('Number of won games')\n",
                "plt.grid(True)\n",
                "plt.show()"
            ],
            "outputs": [
                {
                    "output_type": "display_data",
                    "data": {
                        "text/plain": [
                            "<Figure size 432x288 with 1 Axes>"
                        ],
                        "image/png": "[encoded data removed]"
                    },
                    "metadata": {
                        "needs_background": "light"
                    }
                }
            ],
            "metadata": {}
        },
        {
            "cell_type": "code",
            "execution_count": 77,
            "source": [
                "win"
            ],
            "outputs": [
                {
                    "output_type": "execute_result",
                    "data": {
                        "text/plain": [
                            "['greedy',\n",
                            " 'greedy',\n",
                            " 'draw',\n",
                            " 'shortest path',\n",
                            " 'shortest path',\n",
                            " 'greedy',\n",
                            " 'greedy',\n",
                            " 'draw',\n",
                            " 'draw',\n",
                            " 'draw']"
                        ]
                    },
                    "metadata": {},
                    "execution_count": 77
                }
            ],
            "metadata": {}
        },
        {
            "cell_type": "code",
            "execution_count": 82,
            "source": [
                "data[0][\"greedy\"]"
            ],
            "outputs": [
                {
                    "output_type": "execute_result",
                    "data": {
                        "text/plain": [
                            "[{'sender': 6, 'reciever': 5, 'action': None, 'rewards': 0},\n",
                            " {'sender': 12, 'reciever': 9, 'action': 5, 'rewards': 2.2},\n",
                            " {'sender': 8, 'reciever': 3, 'action': 9, 'rewards': 5.5},\n",
                            " {'sender': 4, 'reciever': 3, 'action': 4, 'rewards': 5.51},\n",
                            " {'sender': 0, 'reciever': 7, 'action': 3, 'rewards': 9.91},\n",
                            " {'sender': 4, 'reciever': 7, 'action': 4, 'rewards': 9.92},\n",
                            " {'sender': 10, 'reciever': 11, 'action': 7, 'rewards': 15.42},\n",
                            " {'sender': 12, 'reciever': 5, 'action': 11, 'rewards': 22.02},\n",
                            " {'sender': 8, 'reciever': 5, 'action': 8, 'rewards': 22.03},\n",
                            " {'sender': 0, 'reciever': 8, 'action': 5, 'rewards': 29.730000000000004},\n",
                            " {'sender': 12, 'reciever': 8, 'action': 12, 'rewards': 29.740000000000006},\n",
                            " {'sender': 10, 'reciever': 8, 'action': 10, 'rewards': 29.750000000000007},\n",
                            " {'sender': 12, 'reciever': 3, 'action': 8, 'rewards': 38.55000000000001},\n",
                            " {'sender': 15, 'reciever': 3, 'action': 15, 'rewards': 38.56000000000001},\n",
                            " {'sender': 0, 'reciever': 13, 'action': 3, 'rewards': 48.46000000000001},\n",
                            " {'sender': 0, 'reciever': 3, 'action': 13, 'rewards': 59.46000000000001},\n",
                            " {'sender': 14, 'reciever': 15, 'action': 3, 'rewards': 71.56},\n",
                            " {'sender': 0, 'reciever': 10, 'action': 15, 'rewards': 84.76},\n",
                            " {'sender': 14, 'reciever': 10, 'action': 14, 'rewards': 84.77000000000001},\n",
                            " {'sender': 14, 'reciever': 13, 'action': 10, 'rewards': 99.07000000000001},\n",
                            " {'sender': 2, 'reciever': 6, 'action': 13, 'rewards': 114.47000000000001}]"
                        ]
                    },
                    "metadata": {},
                    "execution_count": 82
                }
            ],
            "metadata": {}
        },
        {
            "cell_type": "code",
            "execution_count": 83,
            "source": [
                "data[0]['shortest path']"
            ],
            "outputs": [
                {
                    "output_type": "execute_result",
                    "data": {
                        "text/plain": [
                            "[{'sender': 6, 'reciever': 5, 'action': None, 'rewards': 0},\n",
                            " {'sender': 12, 'reciever': 9, 'action': 5, 'rewards': 2.2},\n",
                            " {'sender': 8, 'reciever': 3, 'action': 9, 'rewards': 5.5},\n",
                            " {'sender': 4, 'reciever': 3, 'action': 4, 'rewards': 5.51},\n",
                            " {'sender': 0, 'reciever': 7, 'action': 3, 'rewards': 9.91},\n",
                            " {'sender': 3, 'reciever': 7, 'action': 3, 'rewards': 9.92},\n",
                            " {'sender': 10, 'reciever': 11, 'action': 7, 'rewards': 15.42},\n",
                            " {'sender': 12, 'reciever': 5, 'action': 11, 'rewards': 22.02},\n",
                            " {'sender': 8, 'reciever': 5, 'action': 8, 'rewards': 22.03},\n",
                            " {'sender': 0, 'reciever': 8, 'action': 5, 'rewards': 29.730000000000004},\n",
                            " {'sender': 2, 'reciever': 8, 'action': 2, 'rewards': 29.740000000000006},\n",
                            " {'sender': 6, 'reciever': 8, 'action': 6, 'rewards': 29.750000000000007},\n",
                            " {'sender': 12, 'reciever': 3, 'action': 8, 'rewards': 38.55000000000001},\n",
                            " {'sender': 15, 'reciever': 3, 'action': 15, 'rewards': 38.56000000000001},\n",
                            " {'sender': 0, 'reciever': 13, 'action': 3, 'rewards': 48.46000000000001},\n",
                            " {'sender': 0, 'reciever': 3, 'action': 13, 'rewards': 59.46000000000001},\n",
                            " {'sender': 1, 'reciever': 3, 'action': 1, 'rewards': 59.470000000000006},\n",
                            " {'sender': 14, 'reciever': 15, 'action': 3, 'rewards': 71.57000000000001},\n",
                            " {'sender': 0, 'reciever': 10, 'action': 15, 'rewards': 84.77000000000001},\n",
                            " {'sender': 12, 'reciever': 10, 'action': 12, 'rewards': 84.78000000000002},\n",
                            " {'sender': 14, 'reciever': 13, 'action': 10, 'rewards': 99.08000000000001}]"
                        ]
                    },
                    "metadata": {},
                    "execution_count": 83
                }
            ],
            "metadata": {}
        },
        {
            "cell_type": "code",
            "execution_count": null,
            "source": [],
            "outputs": [],
            "metadata": {}
        }
    ],
    "metadata": {
        "orig_nbformat": 4,
        "language_info": {
            "name": "python",
            "version": "3.9.5",
            "mimetype": "text/x-python",
            "codemirror_mode": {
                "name": "ipython",
                "version": 3
            },
            "pygments_lexer": "ipython3",
            "nbconvert_exporter": "python",
            "file_extension": ".py"
        },
        "kernelspec": {
            "name": "python3",
            "display_name": "Python 3.9.5 64-bit ('env': venv)"
        },
        "interpreter": {
            "hash": "938087cd91dc8c3dc0e95be6602768323b0e9a94cbbbc46c2ef36e1d4c0872df"
        }
    },
    "nbformat": 4,
    "nbformat_minor": 2
}